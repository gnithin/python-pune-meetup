{
 "cells": [
  {
   "cell_type": "code",
   "execution_count": 1,
   "metadata": {
    "collapsed": false
   },
   "outputs": [],
   "source": [
    "import pandas as pd\n",
    "import numpy as np\n",
    "import matplotlib.pyplot as plt\n",
    "%matplotlib inline\n",
    "import warnings\n",
    "warnings.filterwarnings('ignore')\n",
    "pd.set_option('display.max_columns', 20)\n",
    "pd.set_option('display.max_rows', 25)"
   ]
  },
  {
   "cell_type": "markdown",
   "metadata": {},
   "source": [
    "Read Train data into a DataFrame"
   ]
  },
  {
   "cell_type": "code",
   "execution_count": 2,
   "metadata": {
    "collapsed": false
   },
   "outputs": [],
   "source": [
    "train_csv_file = \"isl_wise_train_detail_03082015_v1.csv\"\n",
    "trains_df = pd.read_csv(train_csv_file)"
   ]
  },
  {
   "cell_type": "markdown",
   "metadata": {},
   "source": [
    "Checking if the dataframe is loaded "
   ]
  },
  {
   "cell_type": "code",
   "execution_count": 3,
   "metadata": {
    "collapsed": false
   },
   "outputs": [
    {
     "data": {
      "text/html": [
       "<div>\n",
       "<table border=\"1\" class=\"dataframe\">\n",
       "  <thead>\n",
       "    <tr style=\"text-align: right;\">\n",
       "      <th></th>\n",
       "      <th>Train No.</th>\n",
       "      <th>train Name</th>\n",
       "      <th>islno</th>\n",
       "      <th>station Code</th>\n",
       "      <th>Station Name</th>\n",
       "      <th>Arrival time</th>\n",
       "      <th>Departure time</th>\n",
       "      <th>Distance</th>\n",
       "      <th>Source Station Code</th>\n",
       "      <th>source Station Name</th>\n",
       "      <th>Destination station Code</th>\n",
       "      <th>Destination Station Name</th>\n",
       "    </tr>\n",
       "  </thead>\n",
       "  <tbody>\n",
       "    <tr>\n",
       "      <th>57227</th>\n",
       "      <td>'22632'</td>\n",
       "      <td>ANUVRAT EXP</td>\n",
       "      <td>21</td>\n",
       "      <td>CD</td>\n",
       "      <td>CHANDRAPUR</td>\n",
       "      <td>'19:01:00'</td>\n",
       "      <td>'19:03:00'</td>\n",
       "      <td>1670</td>\n",
       "      <td>BKN</td>\n",
       "      <td>BIKANER JN</td>\n",
       "      <td>MAS</td>\n",
       "      <td>CHENNAI CENTRAL</td>\n",
       "    </tr>\n",
       "    <tr>\n",
       "      <th>67525</th>\n",
       "      <td>'59076'</td>\n",
       "      <td>BSL ST BCT PASS</td>\n",
       "      <td>30</td>\n",
       "      <td>BCT</td>\n",
       "      <td>MUMBAI CENTRAL</td>\n",
       "      <td>'04:35:00'</td>\n",
       "      <td>'00:00:00'</td>\n",
       "      <td>598</td>\n",
       "      <td>BSL</td>\n",
       "      <td>BHUSAVAL JN</td>\n",
       "      <td>ST</td>\n",
       "      <td>SURAT</td>\n",
       "    </tr>\n",
       "    <tr>\n",
       "      <th>38874</th>\n",
       "      <td>'16350'</td>\n",
       "      <td>RAJYA RANI EXP</td>\n",
       "      <td>10</td>\n",
       "      <td>TCR</td>\n",
       "      <td>THRISUR</td>\n",
       "      <td>'00:07:00'</td>\n",
       "      <td>'00:10:00'</td>\n",
       "      <td>99</td>\n",
       "      <td>NIL</td>\n",
       "      <td>NILAMBUR ROAD</td>\n",
       "      <td>TVC</td>\n",
       "      <td>TRIVANDRUM CNTL</td>\n",
       "    </tr>\n",
       "    <tr>\n",
       "      <th>14430</th>\n",
       "      <td>'12550'</td>\n",
       "      <td>JAT DURG SF EXP</td>\n",
       "      <td>16</td>\n",
       "      <td>BYT</td>\n",
       "      <td>BHATAPARA</td>\n",
       "      <td>'12:11:00'</td>\n",
       "      <td>'12:13:00'</td>\n",
       "      <td>1772</td>\n",
       "      <td>JAT</td>\n",
       "      <td>JAMMU TAWI</td>\n",
       "      <td>DURG</td>\n",
       "      <td>DURG</td>\n",
       "    </tr>\n",
       "    <tr>\n",
       "      <th>40002</th>\n",
       "      <td>'16562'</td>\n",
       "      <td>KCVL YPR AC EXP</td>\n",
       "      <td>15</td>\n",
       "      <td>BAND</td>\n",
       "      <td>BANASWADI</td>\n",
       "      <td>'04:20:00'</td>\n",
       "      <td>'04:21:00'</td>\n",
       "      <td>845</td>\n",
       "      <td>KCVL</td>\n",
       "      <td>KOCHUVELI</td>\n",
       "      <td>YPR</td>\n",
       "      <td>YESVANTPUR JN</td>\n",
       "    </tr>\n",
       "  </tbody>\n",
       "</table>\n",
       "</div>"
      ],
      "text/plain": [
       "      Train No.       train Name  islno station Code     Station Name  \\\n",
       "57227   '22632'  ANUVRAT EXP         21         CD    CHANDRAPUR        \n",
       "67525   '59076'  BSL ST BCT PASS     30         BCT   MUMBAI CENTRAL    \n",
       "38874   '16350'  RAJYA RANI EXP      10         TCR   THRISUR           \n",
       "14430   '12550'  JAT DURG SF EXP     16         BYT   BHATAPARA         \n",
       "40002   '16562'  KCVL YPR AC EXP     15         BAND  BANASWADI         \n",
       "\n",
       "      Arrival time Departure time  Distance Source Station Code  \\\n",
       "57227   '19:01:00'     '19:03:00'      1670                BKN    \n",
       "67525   '04:35:00'     '00:00:00'       598                BSL    \n",
       "38874   '00:07:00'     '00:10:00'        99                NIL    \n",
       "14430   '12:11:00'     '12:13:00'      1772                JAT    \n",
       "40002   '04:20:00'     '04:21:00'       845                KCVL   \n",
       "\n",
       "      source Station Name Destination station Code Destination Station Name  \n",
       "57227     BIKANER JN                          MAS           CHENNAI CENTRAL  \n",
       "67525     BHUSAVAL JN                         ST            SURAT            \n",
       "38874     NILAMBUR ROAD                       TVC           TRIVANDRUM CNTL  \n",
       "14430     JAMMU TAWI                          DURG          DURG             \n",
       "40002     KOCHUVELI                           YPR           YESVANTPUR JN    "
      ]
     },
     "execution_count": 3,
     "metadata": {},
     "output_type": "execute_result"
    }
   ],
   "source": [
    "trains_df.sample(5)"
   ]
  },
  {
   "cell_type": "code",
   "execution_count": 4,
   "metadata": {
    "collapsed": false
   },
   "outputs": [
    {
     "data": {
      "text/plain": [
       "(69006, 12)"
      ]
     },
     "execution_count": 4,
     "metadata": {},
     "output_type": "execute_result"
    }
   ],
   "source": [
    "trains_df.shape"
   ]
  },
  {
   "cell_type": "markdown",
   "metadata": {},
   "source": [
    "Cleaning up data and converting formats for easier manipulation"
   ]
  },
  {
   "cell_type": "code",
   "execution_count": 5,
   "metadata": {
    "collapsed": false
   },
   "outputs": [],
   "source": [
    "def df_perform_action(df, cols, action):\n",
    "    '''\n",
    "    (df, cols, action) -> None\n",
    "    Helper function that takes a DataFrame, cols list and performs\n",
    "    the action specified\n",
    "    '''\n",
    "    for col in cols:\n",
    "        df[col] = action(df, col)\n",
    "\n",
    "# Remove the quotes around the string for the following cols\n",
    "df_perform_action(\n",
    "    trains_df, \n",
    "    ['Train No.', 'Arrival time','Departure time'], \n",
    "    lambda x,y:x[y].str.strip(\"'\")\n",
    ")"
   ]
  },
  {
   "cell_type": "code",
   "execution_count": 6,
   "metadata": {
    "collapsed": false
   },
   "outputs": [],
   "source": [
    "# Change the format to date time\n",
    "# Convert the columns with time into datetime\n",
    "df_perform_action(\n",
    "    trains_df, \n",
    "    ['Arrival time','Departure time'], \n",
    "    lambda x,y:pd.to_datetime(x[y])\n",
    ")"
   ]
  },
  {
   "cell_type": "code",
   "execution_count": 7,
   "metadata": {
    "collapsed": false
   },
   "outputs": [],
   "source": [
    "# Rename all the columns by replacing whitespace with '-' and stripping non-alphanumeric chars\n",
    "col_names = trains_df.columns.tolist()\n",
    "trains_df.columns = [col_name.lower().strip('\\'.').replace(' ','-') for col_name in col_names]"
   ]
  },
  {
   "cell_type": "code",
   "execution_count": 8,
   "metadata": {
    "collapsed": false,
    "scrolled": true
   },
   "outputs": [
    {
     "data": {
      "text/html": [
       "<div>\n",
       "<table border=\"1\" class=\"dataframe\">\n",
       "  <thead>\n",
       "    <tr style=\"text-align: right;\">\n",
       "      <th></th>\n",
       "      <th>train-no</th>\n",
       "      <th>train-name</th>\n",
       "      <th>islno</th>\n",
       "      <th>station-code</th>\n",
       "      <th>station-name</th>\n",
       "      <th>arrival-time</th>\n",
       "      <th>departure-time</th>\n",
       "      <th>distance</th>\n",
       "      <th>source-station-code</th>\n",
       "      <th>source-station-name</th>\n",
       "      <th>destination-station-code</th>\n",
       "      <th>destination-station-name</th>\n",
       "    </tr>\n",
       "  </thead>\n",
       "  <tbody>\n",
       "    <tr>\n",
       "      <th>53531</th>\n",
       "      <td>19417</td>\n",
       "      <td>ADI ALD EXPRESS</td>\n",
       "      <td>8</td>\n",
       "      <td>AN</td>\n",
       "      <td>AMALNER</td>\n",
       "      <td>2016-06-27 23:02:00</td>\n",
       "      <td>2016-06-27 23:05:00</td>\n",
       "      <td>485</td>\n",
       "      <td>ADI</td>\n",
       "      <td>AHMEDABAD JN</td>\n",
       "      <td>ALD</td>\n",
       "      <td>ALLAHABAD JN</td>\n",
       "    </tr>\n",
       "    <tr>\n",
       "      <th>58615</th>\n",
       "      <td>22826</td>\n",
       "      <td>MAS SHM EXP</td>\n",
       "      <td>20</td>\n",
       "      <td>BLS</td>\n",
       "      <td>BALASORE</td>\n",
       "      <td>2016-06-27 17:30:00</td>\n",
       "      <td>2016-06-27 17:32:00</td>\n",
       "      <td>1429</td>\n",
       "      <td>MAS</td>\n",
       "      <td>CHENNAI CENTRAL</td>\n",
       "      <td>SHM</td>\n",
       "      <td>SHALIMAR</td>\n",
       "    </tr>\n",
       "    <tr>\n",
       "      <th>15347</th>\n",
       "      <td>12617</td>\n",
       "      <td>MANGALA LDWEEP</td>\n",
       "      <td>4</td>\n",
       "      <td>SRR</td>\n",
       "      <td>SHORANUR JN</td>\n",
       "      <td>2016-06-27 13:00:00</td>\n",
       "      <td>2016-06-27 13:05:00</td>\n",
       "      <td>107</td>\n",
       "      <td>ERS</td>\n",
       "      <td>ERNAKULAM JN</td>\n",
       "      <td>NZM</td>\n",
       "      <td>H NIZAMUDDIN</td>\n",
       "    </tr>\n",
       "    <tr>\n",
       "      <th>51784</th>\n",
       "      <td>19131</td>\n",
       "      <td>KUTCH EXPRESS</td>\n",
       "      <td>9</td>\n",
       "      <td>BRC</td>\n",
       "      <td>VADODARA JN</td>\n",
       "      <td>2016-06-27 23:40:00</td>\n",
       "      <td>2016-06-27 23:45:00</td>\n",
       "      <td>381</td>\n",
       "      <td>BDTS</td>\n",
       "      <td>BANDRA TERMINUS</td>\n",
       "      <td>BHUJ</td>\n",
       "      <td>BHUJ</td>\n",
       "    </tr>\n",
       "    <tr>\n",
       "      <th>28893</th>\n",
       "      <td>14258</td>\n",
       "      <td>KASHI V EXPRESS</td>\n",
       "      <td>11</td>\n",
       "      <td>BE</td>\n",
       "      <td>BAREILLY</td>\n",
       "      <td>2016-06-27 16:45:00</td>\n",
       "      <td>2016-06-27 16:50:00</td>\n",
       "      <td>258</td>\n",
       "      <td>NDLS</td>\n",
       "      <td>NEW DELHI</td>\n",
       "      <td>BSB</td>\n",
       "      <td>VARANASI JN</td>\n",
       "    </tr>\n",
       "  </tbody>\n",
       "</table>\n",
       "</div>"
      ],
      "text/plain": [
       "      train-no       train-name  islno station-code     station-name  \\\n",
       "53531    19417  ADI ALD EXPRESS      8         AN    AMALNER           \n",
       "58615    22826  MAS SHM EXP         20         BLS   BALASORE          \n",
       "15347    12617  MANGALA LDWEEP       4         SRR   SHORANUR JN       \n",
       "51784    19131  KUTCH EXPRESS        9         BRC   VADODARA JN       \n",
       "28893    14258  KASHI V EXPRESS     11         BE    BAREILLY          \n",
       "\n",
       "             arrival-time      departure-time  distance source-station-code  \\\n",
       "53531 2016-06-27 23:02:00 2016-06-27 23:05:00       485                ADI    \n",
       "58615 2016-06-27 17:30:00 2016-06-27 17:32:00      1429                MAS    \n",
       "15347 2016-06-27 13:00:00 2016-06-27 13:05:00       107                ERS    \n",
       "51784 2016-06-27 23:40:00 2016-06-27 23:45:00       381                BDTS   \n",
       "28893 2016-06-27 16:45:00 2016-06-27 16:50:00       258                NDLS   \n",
       "\n",
       "      source-station-name destination-station-code destination-station-name  \n",
       "53531     AHMEDABAD JN                        ALD           ALLAHABAD JN     \n",
       "58615     CHENNAI CENTRAL                     SHM           SHALIMAR         \n",
       "15347     ERNAKULAM JN                        NZM           H NIZAMUDDIN     \n",
       "51784     BANDRA TERMINUS                     BHUJ          BHUJ             \n",
       "28893     NEW DELHI                           BSB           VARANASI JN      "
      ]
     },
     "execution_count": 8,
     "metadata": {},
     "output_type": "execute_result"
    }
   ],
   "source": [
    "trains_df.sample(5)"
   ]
  },
  {
   "cell_type": "markdown",
   "metadata": {},
   "source": [
    "Data analysis part"
   ]
  },
  {
   "cell_type": "code",
   "execution_count": 9,
   "metadata": {
    "collapsed": false
   },
   "outputs": [
    {
     "data": {
      "text/plain": [
       "'Total number of trains - 2810'"
      ]
     },
     "execution_count": 9,
     "metadata": {},
     "output_type": "execute_result"
    }
   ],
   "source": [
    "\"Total number of trains - %d\" % len(trains_df['train-no'].unique())"
   ]
  },
  {
   "cell_type": "code",
   "execution_count": 10,
   "metadata": {
    "collapsed": false
   },
   "outputs": [
    {
     "data": {
      "text/plain": [
       "'Total number of Stations - 4344'"
      ]
     },
     "execution_count": 10,
     "metadata": {},
     "output_type": "execute_result"
    }
   ],
   "source": [
    "\"Total number of Stations - %d\" % len(trains_df['station-code'].unique())"
   ]
  },
  {
   "cell_type": "code",
   "execution_count": 11,
   "metadata": {
    "collapsed": false,
    "scrolled": true
   },
   "outputs": [
    {
     "data": {
      "text/html": [
       "<div>\n",
       "<table border=\"1\" class=\"dataframe\">\n",
       "  <thead>\n",
       "    <tr style=\"text-align: right;\">\n",
       "      <th></th>\n",
       "      <th>train-no</th>\n",
       "      <th>train-name</th>\n",
       "      <th>source-station-name</th>\n",
       "      <th>destination-station-name</th>\n",
       "      <th>distance</th>\n",
       "    </tr>\n",
       "  </thead>\n",
       "  <tbody>\n",
       "    <tr>\n",
       "      <th>0</th>\n",
       "      <td>16318</td>\n",
       "      <td>HIMSAGAR EXP</td>\n",
       "      <td>JAMMU TAWI</td>\n",
       "      <td>KANYAKUMARI</td>\n",
       "      <td>155675</td>\n",
       "    </tr>\n",
       "    <tr>\n",
       "      <th>1</th>\n",
       "      <td>15909</td>\n",
       "      <td>ABADH ASSAM EXP</td>\n",
       "      <td>NEW TINSUKIA JN</td>\n",
       "      <td>LALGARH JN</td>\n",
       "      <td>153688</td>\n",
       "    </tr>\n",
       "    <tr>\n",
       "      <th>2</th>\n",
       "      <td>13352</td>\n",
       "      <td>DHANBAD EXPRESS</td>\n",
       "      <td>ALLEPPEY</td>\n",
       "      <td>DHANBAD JN</td>\n",
       "      <td>149676</td>\n",
       "    </tr>\n",
       "    <tr>\n",
       "      <th>3</th>\n",
       "      <td>15906</td>\n",
       "      <td>VIVEK EXPRESS</td>\n",
       "      <td>DIBRUGARH</td>\n",
       "      <td>KANYAKUMARI</td>\n",
       "      <td>141633</td>\n",
       "    </tr>\n",
       "    <tr>\n",
       "      <th>4</th>\n",
       "      <td>16317</td>\n",
       "      <td>HIMSAGAR EXP</td>\n",
       "      <td>KANYAKUMARI</td>\n",
       "      <td>JAMMU TAWI</td>\n",
       "      <td>140642</td>\n",
       "    </tr>\n",
       "  </tbody>\n",
       "</table>\n",
       "</div>"
      ],
      "text/plain": [
       "  train-no       train-name source-station-name destination-station-name  \\\n",
       "0    16318  HIMSAGAR EXP        JAMMU TAWI               KANYAKUMARI       \n",
       "1    15909  ABADH ASSAM EXP     NEW TINSUKIA JN          LALGARH JN        \n",
       "2    13352  DHANBAD EXPRESS     ALLEPPEY                 DHANBAD JN        \n",
       "3    15906  VIVEK EXPRESS       DIBRUGARH                KANYAKUMARI       \n",
       "4    16317  HIMSAGAR EXP        KANYAKUMARI              JAMMU TAWI        \n",
       "\n",
       "   distance  \n",
       "0    155675  \n",
       "1    153688  \n",
       "2    149676  \n",
       "3    141633  \n",
       "4    140642  "
      ]
     },
     "execution_count": 11,
     "metadata": {},
     "output_type": "execute_result"
    }
   ],
   "source": [
    "# Distance travelled by all the trains in descending order\n",
    "train_distances_df = trains_df[['train-no','train-name','distance', 'source-station-name', 'destination-station-name']] \\\n",
    "    .groupby(['train-no', 'train-name', 'source-station-name', 'destination-station-name']) \\\n",
    "    .sum() \\\n",
    "    .sort_values('distance' ,ascending=False).reset_index()\n",
    "train_distances_df.head()"
   ]
  },
  {
   "cell_type": "code",
   "execution_count": 12,
   "metadata": {
    "collapsed": false,
    "scrolled": true
   },
   "outputs": [
    {
     "data": {
      "text/plain": [
       "<matplotlib.axes.AxesSubplot at 0x11335aa10>"
      ]
     },
     "execution_count": 12,
     "metadata": {},
     "output_type": "execute_result"
    },
    {
     "data": {
      "image/png": "[encoded data removed]",
      "text/plain": [
       "<matplotlib.figure.Figure at 0x11333f450>"
      ]
     },
     "metadata": {},
     "output_type": "display_data"
    }
   ],
   "source": [
    "t_df = train_distances_df[['train-name', 'distance']].head(10)\n",
    "s = pd.Series(t_df['distance'].tolist(), index=t_df['train-name'])\n",
    "\n",
    "s.plot(\n",
    "        kind='bar', \n",
    "        title =\"Train Distances\",\n",
    "        figsize=(15,5),\n",
    "        legend=False, \n",
    "        fontsize=12\n",
    "    )"
   ]
  },
  {
   "cell_type": "code",
   "execution_count": 13,
   "metadata": {
    "collapsed": false
   },
   "outputs": [
    {
     "data": {
      "text/plain": [
       "<matplotlib.axes.AxesSubplot at 0x113ad0bd0>"
      ]
     },
     "execution_count": 13,
     "metadata": {},
     "output_type": "execute_result"
    },
    {
     "data": {
      "image/png": "[encoded data removed]",
      "text/plain": [
       "<matplotlib.figure.Figure at 0x1137a4750>"
      ]
     },
     "metadata": {},
     "output_type": "display_data"
    }
   ],
   "source": [
    "# Percentage of stations that are source/destination vs strictly intermediate\n",
    "src_dest_station_codes = list(set(trains_df['source-station-code'].tolist() + trains_df['destination-station-code'].tolist()))\n",
    "all_station_codes = trains_df['station-code'].tolist()\n",
    "intermediate_station_codes = [i for i in all_station_codes if i not in src_dest_station_codes]\n",
    "\n",
    "s = pd.Series(\n",
    "    [len(all_station_codes), len(intermediate_station_codes)], \n",
    "    index=['source/destination', 'intermediate'],\n",
    "    name=\"Stations distribution\"\n",
    ")\n",
    "s.plot.pie(figsize=(5, 5))"
   ]
  },
  {
   "cell_type": "code",
   "execution_count": 76,
   "metadata": {
    "collapsed": false
   },
   "outputs": [
    {
     "data": {
      "text/plain": [
       "<matplotlib.axes.AxesSubplot at 0x115885590>"
      ]
     },
     "execution_count": 76,
     "metadata": {},
     "output_type": "execute_result"
    },
    {
     "data": {
      "image/png": "[encoded data removed]",
      "text/plain": [
       "<matplotlib.figure.Figure at 0x11683c910>"
      ]
     },
     "metadata": {},
     "output_type": "display_data"
    }
   ],
   "source": [
    "# Distribution of trains arriving at times throughout the day\n",
    "arriving_hour = pd.DataFrame({\"hour\" : trains_df['arrival-time'].dt.hour})\n",
    "arriving_agg = arriving_hour.groupby(\"hour\").size()\n",
    "arriving_agg.plot()"
   ]
  },
  {
   "cell_type": "code",
   "execution_count": null,
   "metadata": {
    "collapsed": true
   },
   "outputs": [],
   "source": []
  }
 ],
 "metadata": {
  "kernelspec": {
   "display_name": "Python 2",
   "language": "python",
   "name": "python2"
  },
  "language_info": {
   "codemirror_mode": {
    "name": "ipython",
    "version": 2
   },
   "file_extension": ".py",
   "mimetype": "text/x-python",
   "name": "python",
   "nbconvert_exporter": "python",
   "pygments_lexer": "ipython2",
   "version": "2.7.10"
  }
 },
 "nbformat": 4,
 "nbformat_minor": 0
}
