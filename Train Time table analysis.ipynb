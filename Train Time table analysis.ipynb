{
 "cells": [
  {
   "cell_type": "code",
   "execution_count": 2,
   "metadata": {
    "collapsed": false
   },
   "outputs": [],
   "source": [
    "import pandas as pd\n",
    "import numpy as np\n",
    "import matplotlib.pyplot as plt\n",
    "%matplotlib inline\n",
    "import warnings\n",
    "warnings.filterwarnings('ignore')\n",
    "pd.set_option('display.max_columns', 20)\n",
    "pd.set_option('display.max_rows', 25)"
   ]
  },
  {
   "cell_type": "markdown",
   "metadata": {},
   "source": [
    "Read Train data into a DataFrame"
   ]
  },
  {
   "cell_type": "code",
   "execution_count": 3,
   "metadata": {
    "collapsed": false
   },
   "outputs": [],
   "source": [
    "train_csv_file = \"isl_wise_train_detail_03082015_v1.csv\"\n",
    "trains_df = pd.read_csv(train_csv_file)"
   ]
  },
  {
   "cell_type": "markdown",
   "metadata": {},
   "source": [
    "Checking if the dataframe is loaded "
   ]
  },
  {
   "cell_type": "code",
   "execution_count": 4,
   "metadata": {
    "collapsed": false
   },
   "outputs": [
    {
     "data": {
      "text/html": [
       "<div>\n",
       "<table border=\"1\" class=\"dataframe\">\n",
       "  <thead>\n",
       "    <tr style=\"text-align: right;\">\n",
       "      <th></th>\n",
       "      <th>Train No.</th>\n",
       "      <th>train Name</th>\n",
       "      <th>islno</th>\n",
       "      <th>station Code</th>\n",
       "      <th>Station Name</th>\n",
       "      <th>Arrival time</th>\n",
       "      <th>Departure time</th>\n",
       "      <th>Distance</th>\n",
       "      <th>Source Station Code</th>\n",
       "      <th>source Station Name</th>\n",
       "      <th>Destination station Code</th>\n",
       "      <th>Destination Station Name</th>\n",
       "    </tr>\n",
       "  </thead>\n",
       "  <tbody>\n",
       "    <tr>\n",
       "      <th>39943</th>\n",
       "      <td>'16537'</td>\n",
       "      <td>NAGERCOIL  EXP</td>\n",
       "      <td>5</td>\n",
       "      <td>SA</td>\n",
       "      <td>SALEM JN</td>\n",
       "      <td>'04:27:00'</td>\n",
       "      <td>'04:30:00'</td>\n",
       "      <td>226</td>\n",
       "      <td>SBC</td>\n",
       "      <td>BANGALORE CY JN</td>\n",
       "      <td>NCJ</td>\n",
       "      <td>NAGERCOIL JN</td>\n",
       "    </tr>\n",
       "    <tr>\n",
       "      <th>15551</th>\n",
       "      <td>'12624'</td>\n",
       "      <td>CHENNAI MAIL</td>\n",
       "      <td>20</td>\n",
       "      <td>KPD</td>\n",
       "      <td>KATPADI JN</td>\n",
       "      <td>'04:58:00'</td>\n",
       "      <td>'05:00:00'</td>\n",
       "      <td>793</td>\n",
       "      <td>TVC</td>\n",
       "      <td>TRIVANDRUM CNTL</td>\n",
       "      <td>MAS</td>\n",
       "      <td>CHENNAI CENTRAL</td>\n",
       "    </tr>\n",
       "    <tr>\n",
       "      <th>57674</th>\n",
       "      <td>'22646'</td>\n",
       "      <td>AHILYANAGARI EX</td>\n",
       "      <td>11</td>\n",
       "      <td>CKI</td>\n",
       "      <td>CHALAKUDI</td>\n",
       "      <td>'11:04:00'</td>\n",
       "      <td>'11:06:00'</td>\n",
       "      <td>250</td>\n",
       "      <td>TVC</td>\n",
       "      <td>TRIVANDRUM CNTL</td>\n",
       "      <td>INDB</td>\n",
       "      <td>INDORE JN BG</td>\n",
       "    </tr>\n",
       "    <tr>\n",
       "      <th>67497</th>\n",
       "      <td>'59076'</td>\n",
       "      <td>BSL ST BCT PASS</td>\n",
       "      <td>16</td>\n",
       "      <td>BLD</td>\n",
       "      <td>BHILAD</td>\n",
       "      <td>'00:17:00'</td>\n",
       "      <td>'00:19:00'</td>\n",
       "      <td>441</td>\n",
       "      <td>BSL</td>\n",
       "      <td>BHUSAVAL JN</td>\n",
       "      <td>ST</td>\n",
       "      <td>SURAT</td>\n",
       "    </tr>\n",
       "    <tr>\n",
       "      <th>30474</th>\n",
       "      <td>'14660'</td>\n",
       "      <td>JSM DLI EXPRESS</td>\n",
       "      <td>37</td>\n",
       "      <td>DEE</td>\n",
       "      <td>DELHI S ROHILLA</td>\n",
       "      <td>'10:46:00'</td>\n",
       "      <td>'10:48:00'</td>\n",
       "      <td>916</td>\n",
       "      <td>JSM</td>\n",
       "      <td>JAISALMER</td>\n",
       "      <td>DLI</td>\n",
       "      <td>DELHI</td>\n",
       "    </tr>\n",
       "  </tbody>\n",
       "</table>\n",
       "</div>"
      ],
      "text/plain": [
       "      Train No.       train Name  islno station Code     Station Name  \\\n",
       "39943   '16537'  NAGERCOIL  EXP       5         SA    SALEM JN          \n",
       "15551   '12624'  CHENNAI MAIL        20         KPD   KATPADI JN        \n",
       "57674   '22646'  AHILYANAGARI EX     11         CKI   CHALAKUDI         \n",
       "67497   '59076'  BSL ST BCT PASS     16         BLD   BHILAD            \n",
       "30474   '14660'  JSM DLI EXPRESS     37         DEE   DELHI S ROHILLA   \n",
       "\n",
       "      Arrival time Departure time  Distance Source Station Code  \\\n",
       "39943   '04:27:00'     '04:30:00'       226                SBC    \n",
       "15551   '04:58:00'     '05:00:00'       793                TVC    \n",
       "57674   '11:04:00'     '11:06:00'       250                TVC    \n",
       "67497   '00:17:00'     '00:19:00'       441                BSL    \n",
       "30474   '10:46:00'     '10:48:00'       916                JSM    \n",
       "\n",
       "      source Station Name Destination station Code Destination Station Name  \n",
       "39943     BANGALORE CY JN                     NCJ           NAGERCOIL JN     \n",
       "15551     TRIVANDRUM CNTL                     MAS           CHENNAI CENTRAL  \n",
       "57674     TRIVANDRUM CNTL                     INDB          INDORE JN BG     \n",
       "67497     BHUSAVAL JN                         ST            SURAT            \n",
       "30474     JAISALMER                           DLI           DELHI            "
      ]
     },
     "execution_count": 4,
     "metadata": {},
     "output_type": "execute_result"
    }
   ],
   "source": [
    "trains_df.sample(5)"
   ]
  },
  {
   "cell_type": "code",
   "execution_count": 5,
   "metadata": {
    "collapsed": false
   },
   "outputs": [
    {
     "data": {
      "text/plain": [
       "(69006, 12)"
      ]
     },
     "execution_count": 5,
     "metadata": {},
     "output_type": "execute_result"
    }
   ],
   "source": [
    "trains_df.shape"
   ]
  },
  {
   "cell_type": "markdown",
   "metadata": {},
   "source": [
    "Cleaning up data and converting formats for easier manipulation"
   ]
  },
  {
   "cell_type": "code",
   "execution_count": 6,
   "metadata": {
    "collapsed": false
   },
   "outputs": [],
   "source": [
    "def df_perform_action(df, cols, action):\n",
    "    '''\n",
    "    (df, cols, action) -> None\n",
    "    Helper function that takes a DataFrame, cols list and performs\n",
    "    the action specified\n",
    "    '''\n",
    "    for col in cols:\n",
    "        df[col] = action(df, col)\n",
    "\n",
    "# Remove the quotes around the string for the following cols\n",
    "df_perform_action(\n",
    "    trains_df, \n",
    "    ['Train No.', 'Arrival time','Departure time'], \n",
    "    lambda x,y:x[y].str.strip(\"'\")\n",
    ")"
   ]
  },
  {
   "cell_type": "code",
   "execution_count": 7,
   "metadata": {
    "collapsed": false
   },
   "outputs": [],
   "source": [
    "# Change the format to date time\n",
    "# Convert the columns with time into datetime\n",
    "df_perform_action(\n",
    "    trains_df, \n",
    "    ['Arrival time','Departure time'], \n",
    "    lambda x,y:pd.to_datetime(x[y])\n",
    ")"
   ]
  },
  {
   "cell_type": "code",
   "execution_count": 8,
   "metadata": {
    "collapsed": false
   },
   "outputs": [],
   "source": [
    "# Rename all the columns by replacing whitespace with '-' and stripping non-alphanumeric chars\n",
    "col_names = trains_df.columns.tolist()\n",
    "trains_df.columns = [col_name.lower().strip('\\'.').replace(' ','-') for col_name in col_names]"
   ]
  },
  {
   "cell_type": "code",
   "execution_count": 9,
   "metadata": {
    "collapsed": false,
    "scrolled": true
   },
   "outputs": [
    {
     "data": {
      "text/html": [
       "<div>\n",
       "<table border=\"1\" class=\"dataframe\">\n",
       "  <thead>\n",
       "    <tr style=\"text-align: right;\">\n",
       "      <th></th>\n",
       "      <th>train-no</th>\n",
       "      <th>train-name</th>\n",
       "      <th>islno</th>\n",
       "      <th>station-code</th>\n",
       "      <th>station-name</th>\n",
       "      <th>arrival-time</th>\n",
       "      <th>departure-time</th>\n",
       "      <th>distance</th>\n",
       "      <th>source-station-code</th>\n",
       "      <th>source-station-name</th>\n",
       "      <th>destination-station-code</th>\n",
       "      <th>destination-station-name</th>\n",
       "    </tr>\n",
       "  </thead>\n",
       "  <tbody>\n",
       "    <tr>\n",
       "      <th>27248</th>\n",
       "      <td>13484</td>\n",
       "      <td>FARAKKA EXPRESS</td>\n",
       "      <td>19</td>\n",
       "      <td>AY</td>\n",
       "      <td>AYODHYA</td>\n",
       "      <td>2016-06-27 10:47:00</td>\n",
       "      <td>2016-06-27 10:49:00</td>\n",
       "      <td>643</td>\n",
       "      <td>DLI</td>\n",
       "      <td>DELHI</td>\n",
       "      <td>MLDT</td>\n",
       "      <td>MALDA TOWN</td>\n",
       "    </tr>\n",
       "    <tr>\n",
       "      <th>65699</th>\n",
       "      <td>57549</td>\n",
       "      <td>AURANGABAD PSGR</td>\n",
       "      <td>50</td>\n",
       "      <td>PDG</td>\n",
       "      <td>PARADGAON</td>\n",
       "      <td>2016-06-27 10:49:00</td>\n",
       "      <td>2016-06-27 10:50:00</td>\n",
       "      <td>482</td>\n",
       "      <td>HYB</td>\n",
       "      <td>HYDERABAD DECAN</td>\n",
       "      <td>AWB</td>\n",
       "      <td>AURANGABAD</td>\n",
       "    </tr>\n",
       "    <tr>\n",
       "      <th>32967</th>\n",
       "      <td>15159</td>\n",
       "      <td>SARNATH EXPRESS</td>\n",
       "      <td>46</td>\n",
       "      <td>DURG</td>\n",
       "      <td>DURG</td>\n",
       "      <td>2016-06-27 07:30:00</td>\n",
       "      <td>2016-06-27 00:00:00</td>\n",
       "      <td>1083</td>\n",
       "      <td>CPR</td>\n",
       "      <td>CHHAPRA</td>\n",
       "      <td>DURG</td>\n",
       "      <td>DURG</td>\n",
       "    </tr>\n",
       "    <tr>\n",
       "      <th>59307</th>\n",
       "      <td>22876</td>\n",
       "      <td>PRR KGP EXP</td>\n",
       "      <td>11</td>\n",
       "      <td>SLB</td>\n",
       "      <td>SALBONI</td>\n",
       "      <td>2016-06-27 14:43:00</td>\n",
       "      <td>2016-06-27 14:44:00</td>\n",
       "      <td>171</td>\n",
       "      <td>PRR</td>\n",
       "      <td>PURULIA JN</td>\n",
       "      <td>KGP</td>\n",
       "      <td>KHARAGPUR JN</td>\n",
       "    </tr>\n",
       "    <tr>\n",
       "      <th>30942</th>\n",
       "      <td>14723</td>\n",
       "      <td>KALINDI EXPRESS</td>\n",
       "      <td>24</td>\n",
       "      <td>SPZ</td>\n",
       "      <td>SAMPLA</td>\n",
       "      <td>2016-06-27 07:32:00</td>\n",
       "      <td>2016-06-27 07:34:00</td>\n",
       "      <td>534</td>\n",
       "      <td>CNB</td>\n",
       "      <td>KANPUR CENTRAL</td>\n",
       "      <td>BNW</td>\n",
       "      <td>BHIWANI</td>\n",
       "    </tr>\n",
       "  </tbody>\n",
       "</table>\n",
       "</div>"
      ],
      "text/plain": [
       "      train-no       train-name  islno station-code     station-name  \\\n",
       "27248    13484  FARAKKA EXPRESS     19         AY    AYODHYA           \n",
       "65699    57549  AURANGABAD PSGR     50         PDG   PARADGAON         \n",
       "32967    15159  SARNATH EXPRESS     46         DURG  DURG              \n",
       "59307    22876  PRR KGP EXP         11         SLB   SALBONI           \n",
       "30942    14723  KALINDI EXPRESS     24         SPZ   SAMPLA            \n",
       "\n",
       "             arrival-time      departure-time  distance source-station-code  \\\n",
       "27248 2016-06-27 10:47:00 2016-06-27 10:49:00       643                DLI    \n",
       "65699 2016-06-27 10:49:00 2016-06-27 10:50:00       482                HYB    \n",
       "32967 2016-06-27 07:30:00 2016-06-27 00:00:00      1083                CPR    \n",
       "59307 2016-06-27 14:43:00 2016-06-27 14:44:00       171                PRR    \n",
       "30942 2016-06-27 07:32:00 2016-06-27 07:34:00       534                CNB    \n",
       "\n",
       "      source-station-name destination-station-code destination-station-name  \n",
       "27248     DELHI                               MLDT          MALDA TOWN       \n",
       "65699     HYDERABAD DECAN                     AWB           AURANGABAD       \n",
       "32967     CHHAPRA                             DURG          DURG             \n",
       "59307     PURULIA JN                          KGP           KHARAGPUR JN     \n",
       "30942     KANPUR CENTRAL                      BNW           BHIWANI          "
      ]
     },
     "execution_count": 9,
     "metadata": {},
     "output_type": "execute_result"
    }
   ],
   "source": [
    "trains_df.sample(5)"
   ]
  },
  {
   "cell_type": "markdown",
   "metadata": {},
   "source": [
    "Data analysis part"
   ]
  },
  {
   "cell_type": "code",
   "execution_count": 10,
   "metadata": {
    "collapsed": false
   },
   "outputs": [
    {
     "data": {
      "text/plain": [
       "'Total number of trains - 2810'"
      ]
     },
     "execution_count": 10,
     "metadata": {},
     "output_type": "execute_result"
    }
   ],
   "source": [
    "\"Total number of trains - %d\" % len(trains_df['train-no'].unique())"
   ]
  },
  {
   "cell_type": "code",
   "execution_count": 11,
   "metadata": {
    "collapsed": false
   },
   "outputs": [
    {
     "data": {
      "text/plain": [
       "'Total number of Stations - 4344'"
      ]
     },
     "execution_count": 11,
     "metadata": {},
     "output_type": "execute_result"
    }
   ],
   "source": [
    "\"Total number of Stations - %d\" % len(trains_df['station-code'].unique())"
   ]
  },
  {
   "cell_type": "code",
   "execution_count": 12,
   "metadata": {
    "collapsed": false,
    "scrolled": true
   },
   "outputs": [
    {
     "data": {
      "text/html": [
       "<div>\n",
       "<table border=\"1\" class=\"dataframe\">\n",
       "  <thead>\n",
       "    <tr style=\"text-align: right;\">\n",
       "      <th></th>\n",
       "      <th>train-no</th>\n",
       "      <th>train-name</th>\n",
       "      <th>source-station-name</th>\n",
       "      <th>destination-station-name</th>\n",
       "      <th>distance</th>\n",
       "    </tr>\n",
       "  </thead>\n",
       "  <tbody>\n",
       "    <tr>\n",
       "      <th>0</th>\n",
       "      <td>16318</td>\n",
       "      <td>HIMSAGAR EXP</td>\n",
       "      <td>JAMMU TAWI</td>\n",
       "      <td>KANYAKUMARI</td>\n",
       "      <td>155675</td>\n",
       "    </tr>\n",
       "    <tr>\n",
       "      <th>1</th>\n",
       "      <td>15909</td>\n",
       "      <td>ABADH ASSAM EXP</td>\n",
       "      <td>NEW TINSUKIA JN</td>\n",
       "      <td>LALGARH JN</td>\n",
       "      <td>153688</td>\n",
       "    </tr>\n",
       "    <tr>\n",
       "      <th>2</th>\n",
       "      <td>13352</td>\n",
       "      <td>DHANBAD EXPRESS</td>\n",
       "      <td>ALLEPPEY</td>\n",
       "      <td>DHANBAD JN</td>\n",
       "      <td>149676</td>\n",
       "    </tr>\n",
       "    <tr>\n",
       "      <th>3</th>\n",
       "      <td>15906</td>\n",
       "      <td>VIVEK EXPRESS</td>\n",
       "      <td>DIBRUGARH</td>\n",
       "      <td>KANYAKUMARI</td>\n",
       "      <td>141633</td>\n",
       "    </tr>\n",
       "    <tr>\n",
       "      <th>4</th>\n",
       "      <td>16317</td>\n",
       "      <td>HIMSAGAR EXP</td>\n",
       "      <td>KANYAKUMARI</td>\n",
       "      <td>JAMMU TAWI</td>\n",
       "      <td>140642</td>\n",
       "    </tr>\n",
       "  </tbody>\n",
       "</table>\n",
       "</div>"
      ],
      "text/plain": [
       "  train-no       train-name source-station-name destination-station-name  \\\n",
       "0    16318  HIMSAGAR EXP        JAMMU TAWI               KANYAKUMARI       \n",
       "1    15909  ABADH ASSAM EXP     NEW TINSUKIA JN          LALGARH JN        \n",
       "2    13352  DHANBAD EXPRESS     ALLEPPEY                 DHANBAD JN        \n",
       "3    15906  VIVEK EXPRESS       DIBRUGARH                KANYAKUMARI       \n",
       "4    16317  HIMSAGAR EXP        KANYAKUMARI              JAMMU TAWI        \n",
       "\n",
       "   distance  \n",
       "0    155675  \n",
       "1    153688  \n",
       "2    149676  \n",
       "3    141633  \n",
       "4    140642  "
      ]
     },
     "execution_count": 12,
     "metadata": {},
     "output_type": "execute_result"
    }
   ],
   "source": [
    "# Distance travelled by all the trains in descending order\n",
    "train_distances_df = trains_df[['train-no','train-name','distance', 'source-station-name', 'destination-station-name']] \\\n",
    "    .groupby(['train-no', 'train-name', 'source-station-name', 'destination-station-name']) \\\n",
    "    .sum() \\\n",
    "    .sort_values('distance' ,ascending=False).reset_index()\n",
    "train_distances_df.head()"
   ]
  },
  {
   "cell_type": "code",
   "execution_count": 13,
   "metadata": {
    "collapsed": false,
    "scrolled": true
   },
   "outputs": [
    {
     "data": {
      "text/plain": [
       "<matplotlib.axes.AxesSubplot at 0x104baee50>"
      ]
     },
     "execution_count": 13,
     "metadata": {},
     "output_type": "execute_result"
    },
    {
     "data": {
      "image/png": "[encoded data removed]",
      "text/plain": [
       "<matplotlib.figure.Figure at 0x104baea90>"
      ]
     },
     "metadata": {},
     "output_type": "display_data"
    }
   ],
   "source": [
    "t_df = train_distances_df[['train-name', 'distance']].head(10)\n",
    "s = pd.Series(t_df['distance'].tolist(), index=t_df['train-name'])\n",
    "\n",
    "s.plot(\n",
    "        kind='bar', \n",
    "        title =\"Train Distances\",\n",
    "        figsize=(15,5),\n",
    "        legend=False, \n",
    "        fontsize=12\n",
    "    )"
   ]
  },
  {
   "cell_type": "code",
   "execution_count": 14,
   "metadata": {
    "collapsed": false
   },
   "outputs": [
    {
     "data": {
      "text/plain": [
       "<matplotlib.axes.AxesSubplot at 0x105ab3750>"
      ]
     },
     "execution_count": 14,
     "metadata": {},
     "output_type": "execute_result"
    },
    {
     "data": {
      "image/png": "[encoded data removed]",
      "text/plain": [
       "<matplotlib.figure.Figure at 0x104229a50>"
      ]
     },
     "metadata": {},
     "output_type": "display_data"
    }
   ],
   "source": [
    "# Percentage of stations that are source/destination vs strictly intermediate\n",
    "src_dest_station_codes = list(set(trains_df['source-station-code'].tolist() + trains_df['destination-station-code'].tolist()))\n",
    "all_station_codes = trains_df['station-code'].tolist()\n",
    "intermediate_station_codes = [i for i in all_station_codes if i not in src_dest_station_codes]\n",
    "\n",
    "s = pd.Series(\n",
    "    [len(all_station_codes), len(intermediate_station_codes)], \n",
    "    index=['source/destination', 'intermediate'],\n",
    "    name=\"Stations distribution\"\n",
    ")\n",
    "s.plot.pie(figsize=(5, 5))"
   ]
  },
  {
   "cell_type": "code",
   "execution_count": null,
   "metadata": {
    "collapsed": true
   },
   "outputs": [],
   "source": [
    "# Create a path for everything thats"
   ]
  }
 ],
 "metadata": {
  "kernelspec": {
   "display_name": "Python 2",
   "language": "python",
   "name": "python2"
  },
  "language_info": {
   "codemirror_mode": {
    "name": "ipython",
    "version": 2
   },
   "file_extension": ".py",
   "mimetype": "text/x-python",
   "name": "python",
   "nbconvert_exporter": "python",
   "pygments_lexer": "ipython2",
   "version": "2.7.10"
  }
 },
 "nbformat": 4,
 "nbformat_minor": 0
}
