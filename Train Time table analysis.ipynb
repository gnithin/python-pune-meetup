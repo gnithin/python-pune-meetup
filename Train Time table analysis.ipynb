{
 "cells": [
  {
   "cell_type": "code",
   "execution_count": 12,
   "metadata": {
    "collapsed": false
   },
   "outputs": [],
   "source": [
    "import pandas as pd\n",
    "import numpy as np\n",
    "import matplotlib.pyplot as plt\n",
    "%matplotlib inline\n",
    "import warnings\n",
    "warnings.filterwarnings('ignore')\n",
    "pd.set_option('display.max_columns', 20)\n",
    "pd.set_option('display.max_rows', 25)"
   ]
  },
  {
   "cell_type": "markdown",
   "metadata": {},
   "source": [
    "Read Train data into a DataFrame"
   ]
  },
  {
   "cell_type": "code",
   "execution_count": 63,
   "metadata": {
    "collapsed": false
   },
   "outputs": [],
   "source": [
    "train_csv_file = \"isl_wise_train_detail_03082015_v1.csv\"\n",
    "trains_df = pd.read_csv(train_csv_file)"
   ]
  },
  {
   "cell_type": "markdown",
   "metadata": {},
   "source": [
    "Checking if the dataframe is loaded "
   ]
  },
  {
   "cell_type": "code",
   "execution_count": 64,
   "metadata": {
    "collapsed": false
   },
   "outputs": [
    {
     "data": {
      "text/html": [
       "<div>\n",
       "<table border=\"1\" class=\"dataframe\">\n",
       "  <thead>\n",
       "    <tr style=\"text-align: right;\">\n",
       "      <th></th>\n",
       "      <th>Train No.</th>\n",
       "      <th>train Name</th>\n",
       "      <th>islno</th>\n",
       "      <th>station Code</th>\n",
       "      <th>Station Name</th>\n",
       "      <th>Arrival time</th>\n",
       "      <th>Departure time</th>\n",
       "      <th>Distance</th>\n",
       "      <th>Source Station Code</th>\n",
       "      <th>source Station Name</th>\n",
       "      <th>Destination station Code</th>\n",
       "      <th>Destination Station Name</th>\n",
       "    </tr>\n",
       "  </thead>\n",
       "  <tbody>\n",
       "    <tr>\n",
       "      <th>43463</th>\n",
       "      <td>'17307'</td>\n",
       "      <td>BASAVA EXPRESS</td>\n",
       "      <td>9</td>\n",
       "      <td>SBC</td>\n",
       "      <td>BANGALORE CY JN</td>\n",
       "      <td>'16:40:00'</td>\n",
       "      <td>'17:00:00'</td>\n",
       "      <td>139</td>\n",
       "      <td>MYS</td>\n",
       "      <td>MYSORE JN</td>\n",
       "      <td>BGK</td>\n",
       "      <td>BAGALKOT</td>\n",
       "    </tr>\n",
       "    <tr>\n",
       "      <th>29265</th>\n",
       "      <td>'14311'</td>\n",
       "      <td>ALA HAZRAT EXP</td>\n",
       "      <td>24</td>\n",
       "      <td>JP</td>\n",
       "      <td>JAIPUR</td>\n",
       "      <td>'17:20:00'</td>\n",
       "      <td>'17:30:00'</td>\n",
       "      <td>559</td>\n",
       "      <td>BE</td>\n",
       "      <td>BAREILLY</td>\n",
       "      <td>BHUJ</td>\n",
       "      <td>BHUJ</td>\n",
       "    </tr>\n",
       "    <tr>\n",
       "      <th>61665</th>\n",
       "      <td>'51433'</td>\n",
       "      <td>NZB PVR PASS</td>\n",
       "      <td>3</td>\n",
       "      <td>NVT</td>\n",
       "      <td>NAVIPET</td>\n",
       "      <td>'13:42:00'</td>\n",
       "      <td>'13:43:00'</td>\n",
       "      <td>15</td>\n",
       "      <td>NZB</td>\n",
       "      <td>NIZAMABAD</td>\n",
       "      <td>PVR</td>\n",
       "      <td>PANDHARPUR</td>\n",
       "    </tr>\n",
       "    <tr>\n",
       "      <th>31959</th>\n",
       "      <td>'15018'</td>\n",
       "      <td>GKP LTT EXP</td>\n",
       "      <td>8</td>\n",
       "      <td>MAU</td>\n",
       "      <td>MAU JN</td>\n",
       "      <td>'08:32:00'</td>\n",
       "      <td>'08:37:00'</td>\n",
       "      <td>139</td>\n",
       "      <td>GKP</td>\n",
       "      <td>GORAKHPUR JN</td>\n",
       "      <td>LTT</td>\n",
       "      <td>LOKMANYATILAK T</td>\n",
       "    </tr>\n",
       "    <tr>\n",
       "      <th>7754</th>\n",
       "      <td>'12138'</td>\n",
       "      <td>PUNJAB MAIL</td>\n",
       "      <td>17</td>\n",
       "      <td>SSB</td>\n",
       "      <td>SHAKURBASTI</td>\n",
       "      <td>'04:11:00'</td>\n",
       "      <td>'04:13:00'</td>\n",
       "      <td>375</td>\n",
       "      <td>FZR</td>\n",
       "      <td>FIROZPUR CANT</td>\n",
       "      <td>CSTM</td>\n",
       "      <td>MUMBAI CST</td>\n",
       "    </tr>\n",
       "  </tbody>\n",
       "</table>\n",
       "</div>"
      ],
      "text/plain": [
       "      Train No.       train Name  islno station Code     Station Name  \\\n",
       "43463   '17307'  BASAVA EXPRESS       9         SBC   BANGALORE CY JN   \n",
       "29265   '14311'  ALA HAZRAT EXP      24         JP    JAIPUR            \n",
       "61665   '51433'  NZB PVR PASS         3         NVT   NAVIPET           \n",
       "31959   '15018'  GKP LTT EXP          8         MAU   MAU JN            \n",
       "7754    '12138'  PUNJAB MAIL         17         SSB   SHAKURBASTI       \n",
       "\n",
       "      Arrival time Departure time  Distance Source Station Code  \\\n",
       "43463   '16:40:00'     '17:00:00'       139                MYS    \n",
       "29265   '17:20:00'     '17:30:00'       559                BE     \n",
       "61665   '13:42:00'     '13:43:00'        15                NZB    \n",
       "31959   '08:32:00'     '08:37:00'       139                GKP    \n",
       "7754    '04:11:00'     '04:13:00'       375                FZR    \n",
       "\n",
       "      source Station Name Destination station Code Destination Station Name  \n",
       "43463     MYSORE JN                           BGK           BAGALKOT         \n",
       "29265     BAREILLY                            BHUJ          BHUJ             \n",
       "61665     NIZAMABAD                           PVR           PANDHARPUR       \n",
       "31959     GORAKHPUR JN                        LTT           LOKMANYATILAK T  \n",
       "7754      FIROZPUR CANT                       CSTM          MUMBAI CST       "
      ]
     },
     "execution_count": 64,
     "metadata": {},
     "output_type": "execute_result"
    }
   ],
   "source": [
    "trains_df.sample(5)"
   ]
  },
  {
   "cell_type": "code",
   "execution_count": 65,
   "metadata": {
    "collapsed": false
   },
   "outputs": [
    {
     "data": {
      "text/plain": [
       "(69006, 12)"
      ]
     },
     "execution_count": 65,
     "metadata": {},
     "output_type": "execute_result"
    }
   ],
   "source": [
    "trains_df.shape"
   ]
  },
  {
   "cell_type": "markdown",
   "metadata": {},
   "source": [
    "Cleaning up data and converting formats for easier manipulation"
   ]
  },
  {
   "cell_type": "code",
   "execution_count": 66,
   "metadata": {
    "collapsed": false
   },
   "outputs": [],
   "source": [
    "def df_perform_action(df, cols, action):\n",
    "    '''\n",
    "    (df, cols, action) -> None\n",
    "    Helper function that takes a DataFrame, cols list and performs\n",
    "    the action specified\n",
    "    '''\n",
    "    for col in cols:\n",
    "        df[col] = action(df, col)\n",
    "\n",
    "# Remove the quotes around the string for the following cols\n",
    "df_perform_action(\n",
    "    trains_df, \n",
    "    ['Train No.', 'Arrival time','Departure time'], \n",
    "    lambda x,y:x[y].str.strip(\"'\")\n",
    ")"
   ]
  },
  {
   "cell_type": "code",
   "execution_count": 67,
   "metadata": {
    "collapsed": false
   },
   "outputs": [],
   "source": [
    "# Change the format to date time\n",
    "# Convert the columns with time into datetime\n",
    "df_perform_action(\n",
    "    trains_df, \n",
    "    ['Arrival time','Departure time'], \n",
    "    lambda x,y:pd.to_datetime(x[y])\n",
    ")"
   ]
  },
  {
   "cell_type": "code",
   "execution_count": 78,
   "metadata": {
    "collapsed": false
   },
   "outputs": [],
   "source": [
    "# Rename all the columns by replacing whitespace with '-' and stripping non-alphanumeric chars\n",
    "trains_df.columns = [col_name.lower().strip('\\'.').replace(' ','-') for col_name in col_names]"
   ]
  },
  {
   "cell_type": "code",
   "execution_count": 79,
   "metadata": {
    "collapsed": false,
    "scrolled": true
   },
   "outputs": [
    {
     "data": {
      "text/html": [
       "<div>\n",
       "<table border=\"1\" class=\"dataframe\">\n",
       "  <thead>\n",
       "    <tr style=\"text-align: right;\">\n",
       "      <th></th>\n",
       "      <th>train-no</th>\n",
       "      <th>train-name</th>\n",
       "      <th>islno</th>\n",
       "      <th>station-code</th>\n",
       "      <th>station-name</th>\n",
       "      <th>arrival-time</th>\n",
       "      <th>departure-time</th>\n",
       "      <th>distance</th>\n",
       "      <th>source-station-code</th>\n",
       "      <th>source-station-name</th>\n",
       "      <th>destination-station-code</th>\n",
       "      <th>destination-station-name</th>\n",
       "    </tr>\n",
       "  </thead>\n",
       "  <tbody>\n",
       "    <tr>\n",
       "      <th>40750</th>\n",
       "      <td>16617</td>\n",
       "      <td>COIMBATORE EXP</td>\n",
       "      <td>1</td>\n",
       "      <td>RMM</td>\n",
       "      <td>RAMESWARAM</td>\n",
       "      <td>2016-06-26 00:00:00</td>\n",
       "      <td>2016-06-26 19:00:00</td>\n",
       "      <td>0</td>\n",
       "      <td>RMM</td>\n",
       "      <td>RAMESWARAM</td>\n",
       "      <td>CBE</td>\n",
       "      <td>COIMBATORE JN</td>\n",
       "    </tr>\n",
       "    <tr>\n",
       "      <th>33785</th>\n",
       "      <td>15616</td>\n",
       "      <td>INTERCITY EXP</td>\n",
       "      <td>6</td>\n",
       "      <td>TNL</td>\n",
       "      <td>TANGLA</td>\n",
       "      <td>2016-06-26 07:37:00</td>\n",
       "      <td>2016-06-26 07:38:00</td>\n",
       "      <td>104</td>\n",
       "      <td>DKGN</td>\n",
       "      <td>DEKARGAON</td>\n",
       "      <td>KYQ</td>\n",
       "      <td>KAMAKHYA</td>\n",
       "    </tr>\n",
       "    <tr>\n",
       "      <th>65188</th>\n",
       "      <td>57272</td>\n",
       "      <td>RGDA BZA PASS</td>\n",
       "      <td>44</td>\n",
       "      <td>DWP</td>\n",
       "      <td>DWARAPUDI</td>\n",
       "      <td>2016-06-26 00:27:00</td>\n",
       "      <td>2016-06-26 00:28:00</td>\n",
       "      <td>366</td>\n",
       "      <td>RGDA</td>\n",
       "      <td>RAYAGADA</td>\n",
       "      <td>BZA</td>\n",
       "      <td>VIJAYAWADA JN</td>\n",
       "    </tr>\n",
       "    <tr>\n",
       "      <th>6651</th>\n",
       "      <td>12021</td>\n",
       "      <td>BBN JANSHATABDI</td>\n",
       "      <td>8</td>\n",
       "      <td>NOMD</td>\n",
       "      <td>NOAMUNDI</td>\n",
       "      <td>2016-06-26 12:02:00</td>\n",
       "      <td>2016-06-26 12:03:00</td>\n",
       "      <td>375</td>\n",
       "      <td>HWH</td>\n",
       "      <td>HOWRAH JN</td>\n",
       "      <td>BBN</td>\n",
       "      <td>BARABIL</td>\n",
       "    </tr>\n",
       "    <tr>\n",
       "      <th>42327</th>\n",
       "      <td>17036</td>\n",
       "      <td>KAGHAZNAGAR EXP</td>\n",
       "      <td>11</td>\n",
       "      <td>ZN</td>\n",
       "      <td>JANGAON</td>\n",
       "      <td>2016-06-26 18:14:00</td>\n",
       "      <td>2016-06-26 18:15:00</td>\n",
       "      <td>213</td>\n",
       "      <td>SKZR</td>\n",
       "      <td>SIRPUR KAGAZNGR</td>\n",
       "      <td>SC</td>\n",
       "      <td>SECUNDERABAD JN</td>\n",
       "    </tr>\n",
       "  </tbody>\n",
       "</table>\n",
       "</div>"
      ],
      "text/plain": [
       "      train-no       train-name  islno station-code     station-name  \\\n",
       "40750    16617  COIMBATORE EXP       1         RMM   RAMESWARAM        \n",
       "33785    15616  INTERCITY EXP        6         TNL   TANGLA            \n",
       "65188    57272  RGDA BZA PASS       44         DWP   DWARAPUDI         \n",
       "6651     12021  BBN JANSHATABDI      8         NOMD  NOAMUNDI          \n",
       "42327    17036  KAGHAZNAGAR EXP     11         ZN    JANGAON           \n",
       "\n",
       "             arrival-time      departure-time  distance source-station-code  \\\n",
       "40750 2016-06-26 00:00:00 2016-06-26 19:00:00         0                RMM    \n",
       "33785 2016-06-26 07:37:00 2016-06-26 07:38:00       104                DKGN   \n",
       "65188 2016-06-26 00:27:00 2016-06-26 00:28:00       366                RGDA   \n",
       "6651  2016-06-26 12:02:00 2016-06-26 12:03:00       375                HWH    \n",
       "42327 2016-06-26 18:14:00 2016-06-26 18:15:00       213                SKZR   \n",
       "\n",
       "      source-station-name destination-station-code destination-station-name  \n",
       "40750     RAMESWARAM                          CBE           COIMBATORE JN    \n",
       "33785     DEKARGAON                           KYQ           KAMAKHYA         \n",
       "65188     RAYAGADA                            BZA           VIJAYAWADA JN    \n",
       "6651      HOWRAH JN                           BBN           BARABIL          \n",
       "42327     SIRPUR KAGAZNGR                     SC            SECUNDERABAD JN  "
      ]
     },
     "execution_count": 79,
     "metadata": {},
     "output_type": "execute_result"
    }
   ],
   "source": [
    "trains_df.sample(5)"
   ]
  },
  {
   "cell_type": "markdown",
   "metadata": {},
   "source": [
    "Data analysis part"
   ]
  },
  {
   "cell_type": "code",
   "execution_count": 76,
   "metadata": {
    "collapsed": false
   },
   "outputs": [
    {
     "data": {
      "text/plain": [
       "'Total number of trains - 2810'"
      ]
     },
     "execution_count": 76,
     "metadata": {},
     "output_type": "execute_result"
    }
   ],
   "source": [
    "\"Total number of trains - %d\" % len(trains_df['train-no'].unique())"
   ]
  },
  {
   "cell_type": "code",
   "execution_count": 77,
   "metadata": {
    "collapsed": false
   },
   "outputs": [
    {
     "data": {
      "text/plain": [
       "'Total number of Stations - 4344'"
      ]
     },
     "execution_count": 77,
     "metadata": {},
     "output_type": "execute_result"
    }
   ],
   "source": [
    "\"Total number of Stations - %d\" % len(trains_df['station-code'].unique())"
   ]
  },
  {
   "cell_type": "code",
   "execution_count": 170,
   "metadata": {
    "collapsed": false,
    "scrolled": true
   },
   "outputs": [
    {
     "data": {
      "text/html": [
       "<div>\n",
       "<table border=\"1\" class=\"dataframe\">\n",
       "  <thead>\n",
       "    <tr style=\"text-align: right;\">\n",
       "      <th></th>\n",
       "      <th>train-no</th>\n",
       "      <th>train-name</th>\n",
       "      <th>source-station-name</th>\n",
       "      <th>destination-station-name</th>\n",
       "      <th>distance</th>\n",
       "    </tr>\n",
       "  </thead>\n",
       "  <tbody>\n",
       "    <tr>\n",
       "      <th>0</th>\n",
       "      <td>16318</td>\n",
       "      <td>HIMSAGAR EXP</td>\n",
       "      <td>JAMMU TAWI</td>\n",
       "      <td>KANYAKUMARI</td>\n",
       "      <td>155675</td>\n",
       "    </tr>\n",
       "    <tr>\n",
       "      <th>1</th>\n",
       "      <td>15909</td>\n",
       "      <td>ABADH ASSAM EXP</td>\n",
       "      <td>NEW TINSUKIA JN</td>\n",
       "      <td>LALGARH JN</td>\n",
       "      <td>153688</td>\n",
       "    </tr>\n",
       "    <tr>\n",
       "      <th>2</th>\n",
       "      <td>13352</td>\n",
       "      <td>DHANBAD EXPRESS</td>\n",
       "      <td>ALLEPPEY</td>\n",
       "      <td>DHANBAD JN</td>\n",
       "      <td>149676</td>\n",
       "    </tr>\n",
       "    <tr>\n",
       "      <th>3</th>\n",
       "      <td>15906</td>\n",
       "      <td>VIVEK EXPRESS</td>\n",
       "      <td>DIBRUGARH</td>\n",
       "      <td>KANYAKUMARI</td>\n",
       "      <td>141633</td>\n",
       "    </tr>\n",
       "    <tr>\n",
       "      <th>4</th>\n",
       "      <td>16317</td>\n",
       "      <td>HIMSAGAR EXP</td>\n",
       "      <td>KANYAKUMARI</td>\n",
       "      <td>JAMMU TAWI</td>\n",
       "      <td>140642</td>\n",
       "    </tr>\n",
       "  </tbody>\n",
       "</table>\n",
       "</div>"
      ],
      "text/plain": [
       "  train-no       train-name source-station-name destination-station-name  \\\n",
       "0    16318  HIMSAGAR EXP        JAMMU TAWI               KANYAKUMARI       \n",
       "1    15909  ABADH ASSAM EXP     NEW TINSUKIA JN          LALGARH JN        \n",
       "2    13352  DHANBAD EXPRESS     ALLEPPEY                 DHANBAD JN        \n",
       "3    15906  VIVEK EXPRESS       DIBRUGARH                KANYAKUMARI       \n",
       "4    16317  HIMSAGAR EXP        KANYAKUMARI              JAMMU TAWI        \n",
       "\n",
       "   distance  \n",
       "0    155675  \n",
       "1    153688  \n",
       "2    149676  \n",
       "3    141633  \n",
       "4    140642  "
      ]
     },
     "execution_count": 170,
     "metadata": {},
     "output_type": "execute_result"
    }
   ],
   "source": [
    "# Distance travelled by all the trains in descending order\n",
    "train_distances_df = trains_df[['train-no','train-name','distance', 'source-station-name', 'destination-station-name']] \\\n",
    "    .groupby(['train-no', 'train-name', 'source-station-name', 'destination-station-name']) \\\n",
    "    .sum() \\\n",
    "    .sort_values('distance' ,ascending=False).reset_index()\n",
    "train_distances_df.head()"
   ]
  },
  {
   "cell_type": "code",
   "execution_count": 180,
   "metadata": {
    "collapsed": false,
    "scrolled": true
   },
   "outputs": [
    {
     "data": {
      "text/plain": [
       "<matplotlib.axes._subplots.AxesSubplot at 0x9d4bd74c>"
      ]
     },
     "execution_count": 180,
     "metadata": {},
     "output_type": "execute_result"
    },
    {
     "data": {
      "image/png": "[encoded data removed]",
      "text/plain": [
       "<matplotlib.figure.Figure at 0x9d1898cc>"
      ]
     },
     "metadata": {},
     "output_type": "display_data"
    }
   ],
   "source": [
    "t_df = train_distances_df[['train-name', 'distance']].head(10)\n",
    "s = pd.Series(t_df['distance'].tolist(), index=t_df['train-name'])\n",
    "\n",
    "s.plot(\n",
    "        kind='bar', \n",
    "        title =\"Train Distances\",\n",
    "        figsize=(15,5),\n",
    "        legend=False, \n",
    "        fontsize=12\n",
    "    )"
   ]
  },
  {
   "cell_type": "code",
   "execution_count": 159,
   "metadata": {
    "collapsed": false
   },
   "outputs": [
    {
     "data": {
      "text/plain": [
       "<matplotlib.axes._subplots.AxesSubplot at 0xaf631bec>"
      ]
     },
     "execution_count": 159,
     "metadata": {},
     "output_type": "execute_result"
    },
    {
     "data": {
      "image/png": "[encoded data removed]",
      "text/plain": [
       "<matplotlib.figure.Figure at 0xada9754c>"
      ]
     },
     "metadata": {},
     "output_type": "display_data"
    }
   ],
   "source": [
    "# Percentage of stations that are source/destination vs strictly intermediate\n",
    "src_dest_station_codes = list(set(trains_df['source-station-code'].tolist() + trains_df['destination-station-code'].tolist()))\n",
    "all_station_codes = trains_df['station-code'].tolist()\n",
    "intermediate_station_codes = [i for i in all_station_codes if i not in src_dest_station_codes]\n",
    "\n",
    "s = pd.Series(\n",
    "    [len(all_station_codes), len(intermediate_station_codes)], \n",
    "    index=['source/destination', 'intermediate'],\n",
    "    name=\"Stations distribution\"\n",
    ")\n",
    "s.plot.pie(figsize=(5, 5))"
   ]
  },
  {
   "cell_type": "code",
   "execution_count": null,
   "metadata": {
    "collapsed": true
   },
   "outputs": [],
   "source": []
  }
 ],
 "metadata": {
  "kernelspec": {
   "display_name": "Python 2",
   "language": "python",
   "name": "python2"
  },
  "language_info": {
   "codemirror_mode": {
    "name": "ipython",
    "version": 2
   },
   "file_extension": ".py",
   "mimetype": "text/x-python",
   "name": "python",
   "nbconvert_exporter": "python",
   "pygments_lexer": "ipython2",
   "version": "2.7.11+"
  }
 },
 "nbformat": 4,
 "nbformat_minor": 0
}
