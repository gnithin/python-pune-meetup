{
 "cells": [
  {
   "cell_type": "code",
   "execution_count": 12,
   "metadata": {
    "collapsed": false
   },
   "outputs": [],
   "source": [
    "import pandas as pd\n",
    "import numpy as np\n",
    "import matplotlib.pyplot as plt\n",
    "%matplotlib inline\n",
    "import warnings\n",
    "warnings.filterwarnings('ignore')\n",
    "pd.set_option('display.max_columns', 20)\n",
    "pd.set_option('display.max_rows', 25)"
   ]
  },
  {
   "cell_type": "markdown",
   "metadata": {},
   "source": [
    "Read Train data into a DataFrame"
   ]
  },
  {
   "cell_type": "code",
   "execution_count": 40,
   "metadata": {
    "collapsed": false
   },
   "outputs": [],
   "source": [
    "train_csv_file = \"isl_wise_train_detail_03082015_v1.csv\"\n",
    "trains_df = pd.read_csv(train_csv_file)"
   ]
  },
  {
   "cell_type": "markdown",
   "metadata": {},
   "source": [
    "Checking if the dataframe is loaded "
   ]
  },
  {
   "cell_type": "code",
   "execution_count": 41,
   "metadata": {
    "collapsed": false
   },
   "outputs": [
    {
     "data": {
      "text/html": [
       "<div>\n",
       "<table border=\"1\" class=\"dataframe\">\n",
       "  <thead>\n",
       "    <tr style=\"text-align: right;\">\n",
       "      <th></th>\n",
       "      <th>Train No.</th>\n",
       "      <th>train Name</th>\n",
       "      <th>islno</th>\n",
       "      <th>station Code</th>\n",
       "      <th>Station Name</th>\n",
       "      <th>Arrival time</th>\n",
       "      <th>Departure time</th>\n",
       "      <th>Distance</th>\n",
       "      <th>Source Station Code</th>\n",
       "      <th>source Station Name</th>\n",
       "      <th>Destination station Code</th>\n",
       "      <th>Destination Station Name</th>\n",
       "    </tr>\n",
       "  </thead>\n",
       "  <tbody>\n",
       "    <tr>\n",
       "      <th>34672</th>\n",
       "      <td>'15657'</td>\n",
       "      <td>KANCHANJANGA EX</td>\n",
       "      <td>28</td>\n",
       "      <td>NBQ</td>\n",
       "      <td>NEW BONGAIGAON</td>\n",
       "      <td>'00:30:00'</td>\n",
       "      <td>'00:40:00'</td>\n",
       "      <td>819</td>\n",
       "      <td>SDAH</td>\n",
       "      <td>SEALDAH</td>\n",
       "      <td>GHY</td>\n",
       "      <td>GUWAHATI</td>\n",
       "    </tr>\n",
       "    <tr>\n",
       "      <th>18345</th>\n",
       "      <td>'12781'</td>\n",
       "      <td>SWARNA JAYANTHI</td>\n",
       "      <td>4</td>\n",
       "      <td>RRB</td>\n",
       "      <td>BIRUR JN</td>\n",
       "      <td>'00:03:00'</td>\n",
       "      <td>'00:05:00'</td>\n",
       "      <td>213</td>\n",
       "      <td>MYS</td>\n",
       "      <td>MYSORE JN</td>\n",
       "      <td>NZM</td>\n",
       "      <td>H NIZAMUDDIN</td>\n",
       "    </tr>\n",
       "    <tr>\n",
       "      <th>48930</th>\n",
       "      <td>'18515'</td>\n",
       "      <td>TATA VSKP EXP</td>\n",
       "      <td>24</td>\n",
       "      <td>SCM</td>\n",
       "      <td>SIMHACHALAM</td>\n",
       "      <td>'04:22:00'</td>\n",
       "      <td>'04:23:00'</td>\n",
       "      <td>856</td>\n",
       "      <td>TATA</td>\n",
       "      <td>TATANAGAR JN</td>\n",
       "      <td>VSKP</td>\n",
       "      <td>VISAKHAPATNAM</td>\n",
       "    </tr>\n",
       "    <tr>\n",
       "      <th>23369</th>\n",
       "      <td>'13024'</td>\n",
       "      <td>GAYA HWH EXPRES</td>\n",
       "      <td>16</td>\n",
       "      <td>BUP</td>\n",
       "      <td>BARIARPUR</td>\n",
       "      <td>'17:25:00'</td>\n",
       "      <td>'17:26:00'</td>\n",
       "      <td>186</td>\n",
       "      <td>GAYA</td>\n",
       "      <td>GAYA JN</td>\n",
       "      <td>HWH</td>\n",
       "      <td>HOWRAH JN</td>\n",
       "    </tr>\n",
       "    <tr>\n",
       "      <th>49966</th>\n",
       "      <td>'18646'</td>\n",
       "      <td>EAST COAST EXP</td>\n",
       "      <td>50</td>\n",
       "      <td>BHC</td>\n",
       "      <td>BHADRAK</td>\n",
       "      <td>'10:38:00'</td>\n",
       "      <td>'10:40:00'</td>\n",
       "      <td>1296</td>\n",
       "      <td>HYB</td>\n",
       "      <td>HYDERABAD DECAN</td>\n",
       "      <td>HWH</td>\n",
       "      <td>HOWRAH JN</td>\n",
       "    </tr>\n",
       "  </tbody>\n",
       "</table>\n",
       "</div>"
      ],
      "text/plain": [
       "      Train No.       train Name  islno station Code     Station Name  \\\n",
       "34672   '15657'  KANCHANJANGA EX     28         NBQ   NEW BONGAIGAON    \n",
       "18345   '12781'  SWARNA JAYANTHI      4         RRB   BIRUR JN          \n",
       "48930   '18515'  TATA VSKP EXP       24         SCM   SIMHACHALAM       \n",
       "23369   '13024'  GAYA HWH EXPRES     16         BUP   BARIARPUR         \n",
       "49966   '18646'  EAST COAST EXP      50         BHC   BHADRAK           \n",
       "\n",
       "      Arrival time Departure time  Distance Source Station Code  \\\n",
       "34672   '00:30:00'     '00:40:00'       819                SDAH   \n",
       "18345   '00:03:00'     '00:05:00'       213                MYS    \n",
       "48930   '04:22:00'     '04:23:00'       856                TATA   \n",
       "23369   '17:25:00'     '17:26:00'       186                GAYA   \n",
       "49966   '10:38:00'     '10:40:00'      1296                HYB    \n",
       "\n",
       "      source Station Name Destination station Code Destination Station Name  \n",
       "34672     SEALDAH                             GHY           GUWAHATI         \n",
       "18345     MYSORE JN                           NZM           H NIZAMUDDIN     \n",
       "48930     TATANAGAR JN                        VSKP          VISAKHAPATNAM    \n",
       "23369     GAYA JN                             HWH           HOWRAH JN        \n",
       "49966     HYDERABAD DECAN                     HWH           HOWRAH JN        "
      ]
     },
     "execution_count": 41,
     "metadata": {},
     "output_type": "execute_result"
    }
   ],
   "source": [
    "trains_df.sample(5)"
   ]
  },
  {
   "cell_type": "code",
   "execution_count": 42,
   "metadata": {
    "collapsed": false
   },
   "outputs": [
    {
     "data": {
      "text/plain": [
       "(69006, 12)"
      ]
     },
     "execution_count": 42,
     "metadata": {},
     "output_type": "execute_result"
    }
   ],
   "source": [
    "trains_df.shape"
   ]
  },
  {
   "cell_type": "markdown",
   "metadata": {},
   "source": [
    "Cleaning up data and converting formats for easier manipulation"
   ]
  },
  {
   "cell_type": "code",
   "execution_count": 43,
   "metadata": {
    "collapsed": false
   },
   "outputs": [],
   "source": [
    "def df_perform_action(df, cols, action):\n",
    "    '''\n",
    "    (df, cols, action) -> None\n",
    "    Helper function that takes a DataFrame, cols list and performs\n",
    "    the action specified\n",
    "    '''\n",
    "    for col in cols:\n",
    "        df[col] = action(df, col)\n",
    "\n",
    "# Remove the quotes around the string for the following cols\n",
    "df_perform_action(\n",
    "    trains_df, \n",
    "    ['Train No.', 'Arrival time','Departure time'], \n",
    "    lambda x,y:x[y].str.strip(\"'\")\n",
    ")"
   ]
  },
  {
   "cell_type": "code",
   "execution_count": 44,
   "metadata": {
    "collapsed": false
   },
   "outputs": [],
   "source": [
    "# Change the format to date time\n",
    "# Convert the columns with time into datetime\n",
    "df_perform_action(\n",
    "    trains_df, \n",
    "    ['Arrival time','Departure time'], \n",
    "    lambda x,y:pd.to_datetime(x[y])\n",
    ")"
   ]
  },
  {
   "cell_type": "code",
   "execution_count": 45,
   "metadata": {
    "collapsed": false
   },
   "outputs": [
    {
     "data": {
      "text/html": [
       "<div>\n",
       "<table border=\"1\" class=\"dataframe\">\n",
       "  <thead>\n",
       "    <tr style=\"text-align: right;\">\n",
       "      <th></th>\n",
       "      <th>Train No.</th>\n",
       "      <th>train Name</th>\n",
       "      <th>islno</th>\n",
       "      <th>station Code</th>\n",
       "      <th>Station Name</th>\n",
       "      <th>Arrival time</th>\n",
       "      <th>Departure time</th>\n",
       "      <th>Distance</th>\n",
       "      <th>Source Station Code</th>\n",
       "      <th>source Station Name</th>\n",
       "      <th>Destination station Code</th>\n",
       "      <th>Destination Station Name</th>\n",
       "    </tr>\n",
       "  </thead>\n",
       "  <tbody>\n",
       "    <tr>\n",
       "      <th>64441</th>\n",
       "      <td>56701</td>\n",
       "      <td>MADURAI PASSR</td>\n",
       "      <td>25</td>\n",
       "      <td>KCVL</td>\n",
       "      <td>KOCHUVELI</td>\n",
       "      <td>2016-06-26 19:30:00</td>\n",
       "      <td>2016-06-26 19:31:00</td>\n",
       "      <td>103</td>\n",
       "      <td>PUU</td>\n",
       "      <td>PUNALUR</td>\n",
       "      <td>MDU</td>\n",
       "      <td>MADURAI JN</td>\n",
       "    </tr>\n",
       "    <tr>\n",
       "      <th>60090</th>\n",
       "      <td>22938</td>\n",
       "      <td>REWA RJT SUP EX</td>\n",
       "      <td>2</td>\n",
       "      <td>STA</td>\n",
       "      <td>SATNA</td>\n",
       "      <td>2016-06-26 19:20:00</td>\n",
       "      <td>2016-06-26 19:30:00</td>\n",
       "      <td>50</td>\n",
       "      <td>REWA</td>\n",
       "      <td>REWA</td>\n",
       "      <td>RJT</td>\n",
       "      <td>RAJKOT JN</td>\n",
       "    </tr>\n",
       "    <tr>\n",
       "      <th>54602</th>\n",
       "      <td>19707</td>\n",
       "      <td>ARAVALI EXPRESS</td>\n",
       "      <td>2</td>\n",
       "      <td>ADH</td>\n",
       "      <td>ANDHERI</td>\n",
       "      <td>2016-06-26 21:17:00</td>\n",
       "      <td>2016-06-26 21:19:00</td>\n",
       "      <td>7</td>\n",
       "      <td>BDTS</td>\n",
       "      <td>BANDRA TERMINUS</td>\n",
       "      <td>JP</td>\n",
       "      <td>JAIPUR</td>\n",
       "    </tr>\n",
       "    <tr>\n",
       "      <th>6780</th>\n",
       "      <td>12039</td>\n",
       "      <td>KGM ANVT SHT</td>\n",
       "      <td>1</td>\n",
       "      <td>KGM</td>\n",
       "      <td>KATHGODAM</td>\n",
       "      <td>2016-06-26 00:00:00</td>\n",
       "      <td>2016-06-26 15:35:00</td>\n",
       "      <td>0</td>\n",
       "      <td>KGM</td>\n",
       "      <td>KATHGODAM</td>\n",
       "      <td>ANVT</td>\n",
       "      <td>ANAND VIHAR TRM</td>\n",
       "    </tr>\n",
       "    <tr>\n",
       "      <th>34715</th>\n",
       "      <td>15661</td>\n",
       "      <td>RNC  KYQ EXPRES</td>\n",
       "      <td>5</td>\n",
       "      <td>DHN</td>\n",
       "      <td>DHANBAD JN</td>\n",
       "      <td>2016-06-26 00:45:00</td>\n",
       "      <td>2016-06-26 00:50:00</td>\n",
       "      <td>164</td>\n",
       "      <td>RNC</td>\n",
       "      <td>RANCHI</td>\n",
       "      <td>KYQ</td>\n",
       "      <td>KAMAKHYA</td>\n",
       "    </tr>\n",
       "  </tbody>\n",
       "</table>\n",
       "</div>"
      ],
      "text/plain": [
       "      Train No.       train Name  islno station Code     Station Name  \\\n",
       "64441     56701  MADURAI PASSR       25         KCVL  KOCHUVELI         \n",
       "60090     22938  REWA RJT SUP EX      2         STA   SATNA             \n",
       "54602     19707  ARAVALI EXPRESS      2         ADH   ANDHERI           \n",
       "6780      12039  KGM ANVT SHT         1         KGM   KATHGODAM         \n",
       "34715     15661  RNC  KYQ EXPRES      5         DHN   DHANBAD JN        \n",
       "\n",
       "             Arrival time      Departure time  Distance Source Station Code  \\\n",
       "64441 2016-06-26 19:30:00 2016-06-26 19:31:00       103                PUU    \n",
       "60090 2016-06-26 19:20:00 2016-06-26 19:30:00        50                REWA   \n",
       "54602 2016-06-26 21:17:00 2016-06-26 21:19:00         7                BDTS   \n",
       "6780  2016-06-26 00:00:00 2016-06-26 15:35:00         0                KGM    \n",
       "34715 2016-06-26 00:45:00 2016-06-26 00:50:00       164                RNC    \n",
       "\n",
       "      source Station Name Destination station Code Destination Station Name  \n",
       "64441     PUNALUR                             MDU           MADURAI JN       \n",
       "60090     REWA                                RJT           RAJKOT JN        \n",
       "54602     BANDRA TERMINUS                     JP            JAIPUR           \n",
       "6780      KATHGODAM                           ANVT          ANAND VIHAR TRM  \n",
       "34715     RANCHI                              KYQ           KAMAKHYA         "
      ]
     },
     "execution_count": 45,
     "metadata": {},
     "output_type": "execute_result"
    }
   ],
   "source": [
    "trains_df.sample(5)"
   ]
  },
  {
   "cell_type": "code",
   "execution_count": null,
   "metadata": {
    "collapsed": true
   },
   "outputs": [],
   "source": [
    "Some data that can be extr"
   ]
  }
 ],
 "metadata": {
  "kernelspec": {
   "display_name": "Python 2",
   "language": "python",
   "name": "python2"
  },
  "language_info": {
   "codemirror_mode": {
    "name": "ipython",
    "version": 2
   },
   "file_extension": ".py",
   "mimetype": "text/x-python",
   "name": "python",
   "nbconvert_exporter": "python",
   "pygments_lexer": "ipython2",
   "version": "2.7.11+"
  }
 },
 "nbformat": 4,
 "nbformat_minor": 0
}
